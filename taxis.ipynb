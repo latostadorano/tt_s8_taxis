{
 "cells": [
  {
   "cell_type": "markdown",
   "metadata": {},
   "source": [
    "**Sprint 8 - Proyecto**\n",
    "Paso 4. Análisis exploratorio de datos (Python)\n",
    "\n",
    "Además de los datos que recuperaste en las tareas anteriores te han dado un segundo archivo. Ahora tienes estos dos CSV:\n",
    "\n",
    "https://practicum-content.s3.us-west-1.amazonaws.com/learning-materials/data-analyst-eng/moved_project_sql_result_01.csv\n",
    "/datasets/project_sql_result_01.csv. contiene los siguientes datos:\n",
    "\n",
    "company_name: nombre de la empresa de taxis\n",
    "\n",
    "trips_amount: el número de viajes de cada compañía de taxis el 15 y 16 de noviembre de 2017. \n",
    "\n",
    "https://practicum-content.s3.us-west-1.amazonaws.com/learning-materials/data-analyst-eng/moved_project_sql_result_04.csv\n",
    "/datasets/project_sql_result_04.csv. contiene los siguientes datos:\n",
    "\n",
    "dropoff_location_name: barrios de Chicago donde finalizaron los viajes\n",
    "\n",
    "average_trips: el promedio de viajes que terminaron en cada barrio en noviembre de 2017.\n",
    "\n",
    "**Para estos dos datasets ahora necesitas**\n",
    "\n",
    "- importar los archivos\n",
    "- estudiar los datos que contienen\n",
    "- asegurarte de que los tipos de datos sean correctos\n",
    "- identificar los 10 principales barrios en términos de finalización del recorrido\n",
    "- hacer gráficos: \n",
    "    - empresas de taxis y número de viajes, \n",
    "    - los 10 barrios principales por número de finalizaciones\n",
    "- sacar conclusiones basadas en cada gráfico y explicar los resultados"
   ]
  },
  {
   "cell_type": "code",
   "execution_count": 119,
   "metadata": {},
   "outputs": [],
   "source": [
    "# Import libraries\n",
    "import pandas as pd \n",
    "import numpy as np \n",
    "import matplotlib.pyplot as plt "
   ]
  },
  {
   "cell_type": "code",
   "execution_count": 175,
   "metadata": {},
   "outputs": [
    {
     "data": {
      "application/vnd.microsoft.datawrangler.viewer.v0+json": {
       "columns": [
        {
         "name": "index",
         "rawType": "int64",
         "type": "integer"
        },
        {
         "name": "company_name",
         "rawType": "object",
         "type": "string"
        },
        {
         "name": "trips_amount",
         "rawType": "int64",
         "type": "integer"
        }
       ],
       "conversionMethod": "pd.DataFrame",
       "ref": "7d3e13c3-2d02-486e-aec8-bca5b764b0ee",
       "rows": [
        [
         "0",
         "Flash Cab",
         "19558"
        ],
        [
         "1",
         "Taxi Affiliation Services",
         "11422"
        ],
        [
         "2",
         "Medallion Leasin",
         "10367"
        ],
        [
         "3",
         "Yellow Cab",
         "9888"
        ],
        [
         "4",
         "Taxi Affiliation Service Yellow",
         "9299"
        ],
        [
         "5",
         "Chicago Carriage Cab Corp",
         "9181"
        ],
        [
         "6",
         "City Service",
         "8448"
        ],
        [
         "7",
         "Sun Taxi",
         "7701"
        ],
        [
         "8",
         "Star North Management LLC",
         "7455"
        ],
        [
         "9",
         "Blue Ribbon Taxi Association Inc.",
         "5953"
        ]
       ],
       "shape": {
        "columns": 2,
        "rows": 10
       }
      },
      "text/html": [
       "<div>\n",
       "<style scoped>\n",
       "    .dataframe tbody tr th:only-of-type {\n",
       "        vertical-align: middle;\n",
       "    }\n",
       "\n",
       "    .dataframe tbody tr th {\n",
       "        vertical-align: top;\n",
       "    }\n",
       "\n",
       "    .dataframe thead th {\n",
       "        text-align: right;\n",
       "    }\n",
       "</style>\n",
       "<table border=\"1\" class=\"dataframe\">\n",
       "  <thead>\n",
       "    <tr style=\"text-align: right;\">\n",
       "      <th></th>\n",
       "      <th>company_name</th>\n",
       "      <th>trips_amount</th>\n",
       "    </tr>\n",
       "  </thead>\n",
       "  <tbody>\n",
       "    <tr>\n",
       "      <th>0</th>\n",
       "      <td>Flash Cab</td>\n",
       "      <td>19558</td>\n",
       "    </tr>\n",
       "    <tr>\n",
       "      <th>1</th>\n",
       "      <td>Taxi Affiliation Services</td>\n",
       "      <td>11422</td>\n",
       "    </tr>\n",
       "    <tr>\n",
       "      <th>2</th>\n",
       "      <td>Medallion Leasin</td>\n",
       "      <td>10367</td>\n",
       "    </tr>\n",
       "    <tr>\n",
       "      <th>3</th>\n",
       "      <td>Yellow Cab</td>\n",
       "      <td>9888</td>\n",
       "    </tr>\n",
       "    <tr>\n",
       "      <th>4</th>\n",
       "      <td>Taxi Affiliation Service Yellow</td>\n",
       "      <td>9299</td>\n",
       "    </tr>\n",
       "    <tr>\n",
       "      <th>5</th>\n",
       "      <td>Chicago Carriage Cab Corp</td>\n",
       "      <td>9181</td>\n",
       "    </tr>\n",
       "    <tr>\n",
       "      <th>6</th>\n",
       "      <td>City Service</td>\n",
       "      <td>8448</td>\n",
       "    </tr>\n",
       "    <tr>\n",
       "      <th>7</th>\n",
       "      <td>Sun Taxi</td>\n",
       "      <td>7701</td>\n",
       "    </tr>\n",
       "    <tr>\n",
       "      <th>8</th>\n",
       "      <td>Star North Management LLC</td>\n",
       "      <td>7455</td>\n",
       "    </tr>\n",
       "    <tr>\n",
       "      <th>9</th>\n",
       "      <td>Blue Ribbon Taxi Association Inc.</td>\n",
       "      <td>5953</td>\n",
       "    </tr>\n",
       "  </tbody>\n",
       "</table>\n",
       "</div>"
      ],
      "text/plain": [
       "                        company_name  trips_amount\n",
       "0                          Flash Cab         19558\n",
       "1          Taxi Affiliation Services         11422\n",
       "2                   Medallion Leasin         10367\n",
       "3                         Yellow Cab          9888\n",
       "4    Taxi Affiliation Service Yellow          9299\n",
       "5          Chicago Carriage Cab Corp          9181\n",
       "6                       City Service          8448\n",
       "7                           Sun Taxi          7701\n",
       "8          Star North Management LLC          7455\n",
       "9  Blue Ribbon Taxi Association Inc.          5953"
      ]
     },
     "execution_count": 175,
     "metadata": {},
     "output_type": "execute_result"
    }
   ],
   "source": [
    "# Crear datasets\n",
    "company_trips = pd.read_csv('https://practicum-content.s3.us-west-1.amazonaws.com/learning-materials/data-analyst-eng/moved_project_sql_result_01.csv')\n",
    "company_trips.head(10)"
   ]
  },
  {
   "cell_type": "code",
   "execution_count": 121,
   "metadata": {},
   "outputs": [
    {
     "name": "stdout",
     "output_type": "stream",
     "text": [
      "<class 'pandas.core.frame.DataFrame'>\n",
      "RangeIndex: 64 entries, 0 to 63\n",
      "Data columns (total 2 columns):\n",
      " #   Column        Non-Null Count  Dtype \n",
      "---  ------        --------------  ----- \n",
      " 0   company_name  64 non-null     object\n",
      " 1   trips_amount  64 non-null     int64 \n",
      "dtypes: int64(1), object(1)\n",
      "memory usage: 1.1+ KB\n"
     ]
    }
   ],
   "source": [
    "company_trips.info()"
   ]
  },
  {
   "cell_type": "code",
   "execution_count": 122,
   "metadata": {},
   "outputs": [
    {
     "data": {
      "application/vnd.microsoft.datawrangler.viewer.v0+json": {
       "columns": [
        {
         "name": "index",
         "rawType": "int64",
         "type": "integer"
        },
        {
         "name": "dropoff_location_name",
         "rawType": "object",
         "type": "string"
        },
        {
         "name": "average_trips",
         "rawType": "float64",
         "type": "float"
        }
       ],
       "conversionMethod": "pd.DataFrame",
       "ref": "34a33994-319d-493d-888a-3389843a33b2",
       "rows": [
        [
         "31",
         "Lower West Side",
         "143.3"
        ],
        [
         "14",
         "Near South Side",
         "839.8333333333334"
        ],
        [
         "87",
         "Pullman",
         "3.896551724137931"
        ],
        [
         "26",
         "Hyde Park",
         "255.13333333333333"
        ],
        [
         "8",
         "Gold Coast",
         "1364.2333333333331"
        ],
        [
         "65",
         "Ashburn",
         "16.133333333333333"
        ],
        [
         "46",
         "Chinatown",
         "52.43333333333333"
        ],
        [
         "64",
         "Oakland",
         "16.633333333333333"
        ],
        [
         "0",
         "Loop",
         "10727.466666666667"
        ],
        [
         "93",
         "Riverdale",
         "1.8"
        ]
       ],
       "shape": {
        "columns": 2,
        "rows": 10
       }
      },
      "text/html": [
       "<div>\n",
       "<style scoped>\n",
       "    .dataframe tbody tr th:only-of-type {\n",
       "        vertical-align: middle;\n",
       "    }\n",
       "\n",
       "    .dataframe tbody tr th {\n",
       "        vertical-align: top;\n",
       "    }\n",
       "\n",
       "    .dataframe thead th {\n",
       "        text-align: right;\n",
       "    }\n",
       "</style>\n",
       "<table border=\"1\" class=\"dataframe\">\n",
       "  <thead>\n",
       "    <tr style=\"text-align: right;\">\n",
       "      <th></th>\n",
       "      <th>dropoff_location_name</th>\n",
       "      <th>average_trips</th>\n",
       "    </tr>\n",
       "  </thead>\n",
       "  <tbody>\n",
       "    <tr>\n",
       "      <th>31</th>\n",
       "      <td>Lower West Side</td>\n",
       "      <td>143.300000</td>\n",
       "    </tr>\n",
       "    <tr>\n",
       "      <th>14</th>\n",
       "      <td>Near South Side</td>\n",
       "      <td>839.833333</td>\n",
       "    </tr>\n",
       "    <tr>\n",
       "      <th>87</th>\n",
       "      <td>Pullman</td>\n",
       "      <td>3.896552</td>\n",
       "    </tr>\n",
       "    <tr>\n",
       "      <th>26</th>\n",
       "      <td>Hyde Park</td>\n",
       "      <td>255.133333</td>\n",
       "    </tr>\n",
       "    <tr>\n",
       "      <th>8</th>\n",
       "      <td>Gold Coast</td>\n",
       "      <td>1364.233333</td>\n",
       "    </tr>\n",
       "    <tr>\n",
       "      <th>65</th>\n",
       "      <td>Ashburn</td>\n",
       "      <td>16.133333</td>\n",
       "    </tr>\n",
       "    <tr>\n",
       "      <th>46</th>\n",
       "      <td>Chinatown</td>\n",
       "      <td>52.433333</td>\n",
       "    </tr>\n",
       "    <tr>\n",
       "      <th>64</th>\n",
       "      <td>Oakland</td>\n",
       "      <td>16.633333</td>\n",
       "    </tr>\n",
       "    <tr>\n",
       "      <th>0</th>\n",
       "      <td>Loop</td>\n",
       "      <td>10727.466667</td>\n",
       "    </tr>\n",
       "    <tr>\n",
       "      <th>93</th>\n",
       "      <td>Riverdale</td>\n",
       "      <td>1.800000</td>\n",
       "    </tr>\n",
       "  </tbody>\n",
       "</table>\n",
       "</div>"
      ],
      "text/plain": [
       "   dropoff_location_name  average_trips\n",
       "31       Lower West Side     143.300000\n",
       "14       Near South Side     839.833333\n",
       "87               Pullman       3.896552\n",
       "26             Hyde Park     255.133333\n",
       "8             Gold Coast    1364.233333\n",
       "65               Ashburn      16.133333\n",
       "46             Chinatown      52.433333\n",
       "64               Oakland      16.633333\n",
       "0                   Loop   10727.466667\n",
       "93             Riverdale       1.800000"
      ]
     },
     "execution_count": 122,
     "metadata": {},
     "output_type": "execute_result"
    }
   ],
   "source": [
    "# Crear datasets\n",
    "chicago = pd.read_csv('https://practicum-content.s3.us-west-1.amazonaws.com/learning-materials/data-analyst-eng/moved_project_sql_result_04.csv')\n",
    "chicago.sample(10)"
   ]
  },
  {
   "cell_type": "code",
   "execution_count": 123,
   "metadata": {},
   "outputs": [
    {
     "name": "stdout",
     "output_type": "stream",
     "text": [
      "<class 'pandas.core.frame.DataFrame'>\n",
      "RangeIndex: 94 entries, 0 to 93\n",
      "Data columns (total 2 columns):\n",
      " #   Column                 Non-Null Count  Dtype  \n",
      "---  ------                 --------------  -----  \n",
      " 0   dropoff_location_name  94 non-null     object \n",
      " 1   average_trips          94 non-null     float64\n",
      "dtypes: float64(1), object(1)\n",
      "memory usage: 1.6+ KB\n"
     ]
    }
   ],
   "source": [
    "chicago.info() "
   ]
  },
  {
   "cell_type": "markdown",
   "metadata": {},
   "source": [
    "**identificar los 10 principales barrios en términos de finalización del recorrido**"
   ]
  },
  {
   "cell_type": "code",
   "execution_count": 137,
   "metadata": {},
   "outputs": [
    {
     "data": {
      "application/vnd.microsoft.datawrangler.viewer.v0+json": {
       "columns": [
        {
         "name": "index",
         "rawType": "int64",
         "type": "integer"
        },
        {
         "name": "dropoff_location_name",
         "rawType": "object",
         "type": "string"
        },
        {
         "name": "average_trips",
         "rawType": "float64",
         "type": "float"
        }
       ],
       "conversionMethod": "pd.DataFrame",
       "ref": "f84ffc01-5c88-44d7-919f-e71e1191be73",
       "rows": [
        [
         "50",
         "Loop",
         "10727.466666666667"
        ],
        [
         "68",
         "River North",
         "9523.666666666666"
        ],
        [
         "78",
         "Streeterville",
         "6664.666666666667"
        ],
        [
         "87",
         "West Loop",
         "5163.666666666667"
        ],
        [
         "63",
         "O'Hare",
         "2546.9"
        ],
        [
         "44",
         "Lake View",
         "2420.9666666666667"
        ],
        [
         "35",
         "Grant Park",
         "2068.5333333333333"
        ],
        [
         "56",
         "Museum Campus",
         "1510.0"
        ],
        [
         "32",
         "Gold Coast",
         "1364.2333333333331"
        ],
        [
         "74",
         "Sheffield & DePaul",
         "1259.7666666666669"
        ]
       ],
       "shape": {
        "columns": 2,
        "rows": 10
       }
      },
      "text/html": [
       "<div>\n",
       "<style scoped>\n",
       "    .dataframe tbody tr th:only-of-type {\n",
       "        vertical-align: middle;\n",
       "    }\n",
       "\n",
       "    .dataframe tbody tr th {\n",
       "        vertical-align: top;\n",
       "    }\n",
       "\n",
       "    .dataframe thead th {\n",
       "        text-align: right;\n",
       "    }\n",
       "</style>\n",
       "<table border=\"1\" class=\"dataframe\">\n",
       "  <thead>\n",
       "    <tr style=\"text-align: right;\">\n",
       "      <th></th>\n",
       "      <th>dropoff_location_name</th>\n",
       "      <th>average_trips</th>\n",
       "    </tr>\n",
       "  </thead>\n",
       "  <tbody>\n",
       "    <tr>\n",
       "      <th>50</th>\n",
       "      <td>Loop</td>\n",
       "      <td>10727.466667</td>\n",
       "    </tr>\n",
       "    <tr>\n",
       "      <th>68</th>\n",
       "      <td>River North</td>\n",
       "      <td>9523.666667</td>\n",
       "    </tr>\n",
       "    <tr>\n",
       "      <th>78</th>\n",
       "      <td>Streeterville</td>\n",
       "      <td>6664.666667</td>\n",
       "    </tr>\n",
       "    <tr>\n",
       "      <th>87</th>\n",
       "      <td>West Loop</td>\n",
       "      <td>5163.666667</td>\n",
       "    </tr>\n",
       "    <tr>\n",
       "      <th>63</th>\n",
       "      <td>O'Hare</td>\n",
       "      <td>2546.900000</td>\n",
       "    </tr>\n",
       "    <tr>\n",
       "      <th>44</th>\n",
       "      <td>Lake View</td>\n",
       "      <td>2420.966667</td>\n",
       "    </tr>\n",
       "    <tr>\n",
       "      <th>35</th>\n",
       "      <td>Grant Park</td>\n",
       "      <td>2068.533333</td>\n",
       "    </tr>\n",
       "    <tr>\n",
       "      <th>56</th>\n",
       "      <td>Museum Campus</td>\n",
       "      <td>1510.000000</td>\n",
       "    </tr>\n",
       "    <tr>\n",
       "      <th>32</th>\n",
       "      <td>Gold Coast</td>\n",
       "      <td>1364.233333</td>\n",
       "    </tr>\n",
       "    <tr>\n",
       "      <th>74</th>\n",
       "      <td>Sheffield &amp; DePaul</td>\n",
       "      <td>1259.766667</td>\n",
       "    </tr>\n",
       "  </tbody>\n",
       "</table>\n",
       "</div>"
      ],
      "text/plain": [
       "   dropoff_location_name  average_trips\n",
       "50                  Loop   10727.466667\n",
       "68           River North    9523.666667\n",
       "78         Streeterville    6664.666667\n",
       "87             West Loop    5163.666667\n",
       "63                O'Hare    2546.900000\n",
       "44             Lake View    2420.966667\n",
       "35            Grant Park    2068.533333\n",
       "56         Museum Campus    1510.000000\n",
       "32            Gold Coast    1364.233333\n",
       "74    Sheffield & DePaul    1259.766667"
      ]
     },
     "execution_count": 137,
     "metadata": {},
     "output_type": "execute_result"
    }
   ],
   "source": [
    "# Top 10 barrios dropoffs\n",
    "location_grouped = chicago.groupby('dropoff_location_name')['average_trips'].sum().reset_index()\n",
    "location_top30 = location_grouped.sort_values(by='average_trips', ascending = False).head(30)\n",
    "location_top10 = location_top30.head(10)\n",
    "location_top10"
   ]
  },
  {
   "cell_type": "code",
   "execution_count": 143,
   "metadata": {},
   "outputs": [
    {
     "data": {
      "image/png": "[encoded data removed]",
      "text/plain": [
       "<Figure size 864x216 with 1 Axes>"
      ]
     },
     "metadata": {
      "needs_background": "light"
     },
     "output_type": "display_data"
    }
   ],
   "source": [
    "# Gráfico de Barrios x Promedio de viajes\n",
    "location_top30.plot(\n",
    "    kind='bar',\n",
    "    x='dropoff_location_name',\n",
    "    rot=45, \n",
    "    figsize=(12,3),\n",
    "    legend = False,\n",
    "    title='Top 30 Barrios x Promedio de viajes')\n",
    "plt.show()"
   ]
  },
  {
   "cell_type": "code",
   "execution_count": 162,
   "metadata": {},
   "outputs": [
    {
     "data": {
      "image/png": "[encoded data removed]",
      "text/plain": [
       "<Figure size 864x216 with 1 Axes>"
      ]
     },
     "metadata": {
      "needs_background": "light"
     },
     "output_type": "display_data"
    }
   ],
   "source": [
    "# Gráfico de Barrios x Promedio de viajes\n",
    "location_top10.plot(\n",
    "    kind='bar',\n",
    "    x='dropoff_location_name',\n",
    "    rot=45, \n",
    "    figsize=(12,3),\n",
    "    legend = False,\n",
    "    title='Top 10 Barrios x Promedio de viajes')\n",
    "plt.show()"
   ]
  },
  {
   "cell_type": "code",
   "execution_count": 163,
   "metadata": {},
   "outputs": [
    {
     "name": "stdout",
     "output_type": "stream",
     "text": [
      "Los 10 Barrios con más viajes de destino son:\n",
      "1. Loop\n",
      "2. River North\n",
      "3. Streeterville\n",
      "4. West Loop\n",
      "5. O'Hare\n",
      "6. Lake View\n",
      "7. Grant Park\n",
      "8. Museum Campus\n",
      "9. Gold Coast\n",
      "10. Sheffield & DePaul\n"
     ]
    }
   ],
   "source": [
    "# Lista de top 10 Barrios\n",
    "location_top_10_list = location_top10.dropoff_location_name.head(10).to_list()\n",
    "print(\"Los 10 Barrios con más viajes de destino son:\")\n",
    "for i, barrio in enumerate(location_top_10_list, start=1):\n",
    "    print(f\"{i}. {barrio}\")"
   ]
  },
  {
   "cell_type": "code",
   "execution_count": 164,
   "metadata": {},
   "outputs": [
    {
     "name": "stdout",
     "output_type": "stream",
     "text": [
      "La relación entre el Top 10 y el total de viajes es del 76.69%\n"
     ]
    }
   ],
   "source": [
    "#Sacamos la relación del top 10 con el total de viajes\n",
    "top10_trips = chicago[chicago.dropoff_location_name.isin(location_top_10_list)]['average_trips'].sum()\n",
    "total_trips = chicago['average_trips'].sum()\n",
    "percentage = (top10_trips / total_trips) * 100\n",
    "print(f'La relación entre el Top 10 y el total de viajes es del {percentage:.2f}%')"
   ]
  },
  {
   "cell_type": "code",
   "execution_count": 169,
   "metadata": {},
   "outputs": [
    {
     "name": "stdout",
     "output_type": "stream",
     "text": [
      "La relación del Top 4 es del 56.88%\n"
     ]
    }
   ],
   "source": [
    "# Relación top 4\n",
    "top4_locations = location_top_10_list[0:4]\n",
    "top4_trips = chicago[chicago.dropoff_location_name.isin(top4_locations)]['average_trips'].sum()\n",
    "top4_percentage = (top4_trips/total_trips)*100\n",
    "print(f'La relación del Top 4 es del {top4_percentage:.2f}%')"
   ]
  },
  {
   "cell_type": "markdown",
   "metadata": {},
   "source": [
    "Aunque el total de viajes del Top 10 representa el 76.69% de todos los viajes.\n",
    "De los 10 barrios con más viajes de destino, podemos destacar los 4 primeros:\n",
    "- Loop\n",
    "- River North\n",
    "- Streeterville\n",
    "- West Loop\n",
    "\n",
    "Que son los barrios en que se nota que hay un considerable volumen de viajes destino.\n",
    "Este top 4 representa el 56.88% de todos los viajes"
   ]
  },
  {
   "cell_type": "code",
   "execution_count": 171,
   "metadata": {},
   "outputs": [
    {
     "data": {
      "application/vnd.microsoft.datawrangler.viewer.v0+json": {
       "columns": [
        {
         "name": "index",
         "rawType": "int64",
         "type": "integer"
        },
        {
         "name": "company_name",
         "rawType": "object",
         "type": "string"
        },
        {
         "name": "trips_amount",
         "rawType": "int64",
         "type": "integer"
        }
       ],
       "conversionMethod": "pd.DataFrame",
       "ref": "21117552-8148-4d0c-8233-9b2c33a0cfbd",
       "rows": [
        [
         "45",
         "Flash Cab",
         "19558"
        ],
        [
         "61",
         "Taxi Affiliation Services",
         "11422"
        ],
        [
         "50",
         "Medallion Leasin",
         "10367"
        ],
        [
         "63",
         "Yellow Cab",
         "9888"
        ],
        [
         "60",
         "Taxi Affiliation Service Yellow",
         "9299"
        ],
        [
         "36",
         "Chicago Carriage Cab Corp",
         "9181"
        ],
        [
         "43",
         "City Service",
         "8448"
        ],
        [
         "59",
         "Sun Taxi",
         "7701"
        ],
        [
         "58",
         "Star North Management LLC",
         "7455"
        ],
        [
         "33",
         "Blue Ribbon Taxi Association Inc.",
         "5953"
        ]
       ],
       "shape": {
        "columns": 2,
        "rows": 10
       }
      },
      "text/html": [
       "<div>\n",
       "<style scoped>\n",
       "    .dataframe tbody tr th:only-of-type {\n",
       "        vertical-align: middle;\n",
       "    }\n",
       "\n",
       "    .dataframe tbody tr th {\n",
       "        vertical-align: top;\n",
       "    }\n",
       "\n",
       "    .dataframe thead th {\n",
       "        text-align: right;\n",
       "    }\n",
       "</style>\n",
       "<table border=\"1\" class=\"dataframe\">\n",
       "  <thead>\n",
       "    <tr style=\"text-align: right;\">\n",
       "      <th></th>\n",
       "      <th>company_name</th>\n",
       "      <th>trips_amount</th>\n",
       "    </tr>\n",
       "  </thead>\n",
       "  <tbody>\n",
       "    <tr>\n",
       "      <th>45</th>\n",
       "      <td>Flash Cab</td>\n",
       "      <td>19558</td>\n",
       "    </tr>\n",
       "    <tr>\n",
       "      <th>61</th>\n",
       "      <td>Taxi Affiliation Services</td>\n",
       "      <td>11422</td>\n",
       "    </tr>\n",
       "    <tr>\n",
       "      <th>50</th>\n",
       "      <td>Medallion Leasin</td>\n",
       "      <td>10367</td>\n",
       "    </tr>\n",
       "    <tr>\n",
       "      <th>63</th>\n",
       "      <td>Yellow Cab</td>\n",
       "      <td>9888</td>\n",
       "    </tr>\n",
       "    <tr>\n",
       "      <th>60</th>\n",
       "      <td>Taxi Affiliation Service Yellow</td>\n",
       "      <td>9299</td>\n",
       "    </tr>\n",
       "    <tr>\n",
       "      <th>36</th>\n",
       "      <td>Chicago Carriage Cab Corp</td>\n",
       "      <td>9181</td>\n",
       "    </tr>\n",
       "    <tr>\n",
       "      <th>43</th>\n",
       "      <td>City Service</td>\n",
       "      <td>8448</td>\n",
       "    </tr>\n",
       "    <tr>\n",
       "      <th>59</th>\n",
       "      <td>Sun Taxi</td>\n",
       "      <td>7701</td>\n",
       "    </tr>\n",
       "    <tr>\n",
       "      <th>58</th>\n",
       "      <td>Star North Management LLC</td>\n",
       "      <td>7455</td>\n",
       "    </tr>\n",
       "    <tr>\n",
       "      <th>33</th>\n",
       "      <td>Blue Ribbon Taxi Association Inc.</td>\n",
       "      <td>5953</td>\n",
       "    </tr>\n",
       "  </tbody>\n",
       "</table>\n",
       "</div>"
      ],
      "text/plain": [
       "                         company_name  trips_amount\n",
       "45                          Flash Cab         19558\n",
       "61          Taxi Affiliation Services         11422\n",
       "50                   Medallion Leasin         10367\n",
       "63                         Yellow Cab          9888\n",
       "60    Taxi Affiliation Service Yellow          9299\n",
       "36          Chicago Carriage Cab Corp          9181\n",
       "43                       City Service          8448\n",
       "59                           Sun Taxi          7701\n",
       "58          Star North Management LLC          7455\n",
       "33  Blue Ribbon Taxi Association Inc.          5953"
      ]
     },
     "execution_count": 171,
     "metadata": {},
     "output_type": "execute_result"
    }
   ],
   "source": [
    "# Compañías con más viajes\n",
    "company_grouped = company_trips.groupby('company_name')['trips_amount'].sum().reset_index()\n",
    "company_top30 = company_grouped.sort_values(by='trips_amount', ascending=False).head(30)\n",
    "company_top30.head(10)"
   ]
  },
  {
   "cell_type": "code",
   "execution_count": 172,
   "metadata": {},
   "outputs": [
    {
     "data": {
      "image/png": "[encoded data removed]",
      "text/plain": [
       "<Figure size 864x216 with 1 Axes>"
      ]
     },
     "metadata": {
      "needs_background": "light"
     },
     "output_type": "display_data"
    }
   ],
   "source": [
    "# Gráfico de viajes por compañía de taxis\n",
    "company_top30.plot(\n",
    "    kind='bar', \n",
    "    x= 'company_name', \n",
    "    figsize=(12,3),\n",
    "    legend = False, \n",
    "    title = 'Cantidad de viajes por compañía (Top 30)'\n",
    "    )\n",
    "plt.show()"
   ]
  },
  {
   "cell_type": "code",
   "execution_count": 187,
   "metadata": {},
   "outputs": [
    {
     "name": "stdout",
     "output_type": "stream",
     "text": [
      "Las compañías top 10, son:\n",
      "1. Flash Cab\n",
      "2. Taxi Affiliation Services\n",
      "3. Medallion Leasin\n",
      "4. Yellow Cab\n",
      "5. Taxi Affiliation Service Yellow\n",
      "6. Chicago Carriage Cab Corp\n",
      "7. City Service\n",
      "8. Sun Taxi\n",
      "9. Star North Management LLC\n",
      "10. Blue Ribbon Taxi Association Inc.\n"
     ]
    }
   ],
   "source": [
    "company_top10_list = company_top30.company_name.head(10).to_list()\n",
    "print(\"Las compañías top 10, son:\")\n",
    "for i, company in enumerate(company_top10_list, start=1):\n",
    "    print(f\"{i}. {company}\")\n"
   ]
  },
  {
   "cell_type": "code",
   "execution_count": 186,
   "metadata": {},
   "outputs": [
    {
     "name": "stdout",
     "output_type": "stream",
     "text": [
      "El porcentaje de trips de Flash Cab equivale al 14.24% de todos los viajes.\n"
     ]
    }
   ],
   "source": [
    "flash_cab_trips = company_trips[company_trips['company_name']=='Flash Cab']['trips_amount'].sum()\n",
    "total_trips = company_trips['trips_amount'].sum()\n",
    "flash_cab_percentage = (flash_cab_trips / total_trips) * 100\n",
    "print(f'El porcentaje de trips de Flash Cab equivale al {flash_cab_percentage:.2f}% de todos los viajes.')"
   ]
  },
  {
   "cell_type": "markdown",
   "metadata": {},
   "source": [
    "Flash Cab es la compañía de Taxis que domina el mercado con un 14.24% de todos los viajes. Tiene casi el doble de viajes promedio que su siguiente competidor, Taxi Affiliation Services, que tiene un 8.32.\n",
    "El dominio de Flash Cab tal vez se deba a que tienen un mayor número de unidades circulando así como suscriptores a alguna app."
   ]
  },
  {
   "cell_type": "markdown",
   "metadata": {},
   "source": []
  }
 ],
 "metadata": {
  "kernelspec": {
   "display_name": "base",
   "language": "python",
   "name": "python3"
  },
  "language_info": {
   "codemirror_mode": {
    "name": "ipython",
    "version": 3
   },
   "file_extension": ".py",
   "mimetype": "text/x-python",
   "name": "python",
   "nbconvert_exporter": "python",
   "pygments_lexer": "ipython3",
   "version": "3.9.21"
  }
 },
 "nbformat": 4,
 "nbformat_minor": 2
}
